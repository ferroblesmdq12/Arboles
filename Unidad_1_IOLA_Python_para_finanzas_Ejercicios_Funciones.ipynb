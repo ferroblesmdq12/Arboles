{
  "nbformat": 4,
  "nbformat_minor": 0,
  "metadata": {
    "colab": {
      "name": "Unidad 1: IOLA Python para finanzas - Ejercicios Funciones.ipynb",
      "provenance": [],
      "collapsed_sections": [],
      "include_colab_link": true
    },
    "kernelspec": {
      "name": "python3",
      "display_name": "Python 3"
    }
  },
  "cells": [
    {
      "cell_type": "markdown",
      "metadata": {
        "id": "view-in-github",
        "colab_type": "text"
      },
      "source": [
        "<a href=\"https://colab.research.google.com/github/ferroblesmdq12/Arboles/blob/main/Unidad_1_IOLA_Python_para_finanzas_Ejercicios_Funciones.ipynb\" target=\"_parent\"><img src=\"https://colab.research.google.com/assets/colab-badge.svg\" alt=\"Open In Colab\"/></a>"
      ]
    },
    {
      "cell_type": "code",
      "metadata": {
        "id": "Bnr4bFH3wR21"
      },
      "source": [
        ""
      ],
      "execution_count": null,
      "outputs": []
    },
    {
      "cell_type": "markdown",
      "metadata": {
        "id": "Wq6C6qlpwb1O"
      },
      "source": [
        "## Ejercicio 1)\n",
        "Se requiere una función que reciba 3 valores numericos y devuelva el mayor de ellos\n",
        "elMayorDeTres(a,b,c)\n",
        "\n",
        "probar la función con los siguientes argumentos\n",
        "- con 1,2,3 -> deberá devolver 3\n",
        "- 3,3, 2 -> deberá devolver 3\n",
        "- 1, 0.1, 100 deberá devolver 100\n"
      ]
    },
    {
      "cell_type": "code",
      "metadata": {
        "id": "ekulm9j8Koql"
      },
      "source": [
        ""
      ],
      "execution_count": null,
      "outputs": []
    },
    {
      "cell_type": "code",
      "metadata": {
        "id": "XMqLjgwzKohk"
      },
      "source": [
        ""
      ],
      "execution_count": null,
      "outputs": []
    },
    {
      "cell_type": "code",
      "metadata": {
        "id": "wPKprx7vKTjR"
      },
      "source": [
        ""
      ],
      "execution_count": null,
      "outputs": []
    },
    {
      "cell_type": "code",
      "metadata": {
        "id": "fxjfHa2uKTaJ"
      },
      "source": [
        ""
      ],
      "execution_count": null,
      "outputs": []
    },
    {
      "cell_type": "code",
      "metadata": {
        "id": "kYacUB81KSyL"
      },
      "source": [
        ""
      ],
      "execution_count": null,
      "outputs": []
    },
    {
      "cell_type": "markdown",
      "metadata": {
        "id": "1X_uZYORKyO1"
      },
      "source": [
        "#### Posible Solucion"
      ]
    },
    {
      "cell_type": "code",
      "metadata": {
        "id": "SKJX3MApxJim"
      },
      "source": [
        "#Opción mas facil\n",
        "def elMayorDeTres(a,b,c):\n",
        "  lista = [a,b,c]\n",
        "  lista.sort(reverse=True)\n",
        "  return lista[0]"
      ],
      "execution_count": null,
      "outputs": []
    },
    {
      "cell_type": "code",
      "metadata": {
        "id": "-rw9uODtyIzT",
        "colab": {
          "base_uri": "https://localhost:8080/"
        },
        "outputId": "6af9e225-e955-4390-8ca2-388ca4b70f2a"
      },
      "source": [
        "elMayorDeTres(1,2,4)"
      ],
      "execution_count": null,
      "outputs": [
        {
          "output_type": "execute_result",
          "data": {
            "text/plain": [
              "4"
            ]
          },
          "metadata": {
            "tags": []
          },
          "execution_count": 2
        }
      ]
    },
    {
      "cell_type": "markdown",
      "metadata": {
        "id": "Lp8im3liTHpC"
      },
      "source": [
        "Algoritmo .\n",
        "\n",
        "1.- recibir tres números diferentes.\n",
        "\n",
        "2.- Comparar el primero con el segundo.\n",
        "\n",
        "3.- Al mayor de los anteriores, compararlo con el tercero. El número más grande es el mayor de los tres.\n",
        "\n",
        "4.- devolver el resultado obtenido\n",
        "\n",
        "FIN\n",
        "\n"
      ]
    },
    {
      "cell_type": "code",
      "metadata": {
        "id": "Q1YTz3bWyLjP"
      },
      "source": [
        "#Opcion v2\n",
        "def elMayorDeTresV2(a,b,c):\n",
        "  if a >= b:\n",
        "    if(a >= c):\n",
        "      return a\n",
        "    else:\n",
        "       return c \n",
        "  elif (b >= c):\n",
        "    return b \n",
        "  else:\n",
        "     return c\n"
      ],
      "execution_count": null,
      "outputs": []
    },
    {
      "cell_type": "code",
      "metadata": {
        "id": "R3jFXTbryjaQ",
        "colab": {
          "base_uri": "https://localhost:8080/"
        },
        "outputId": "87a90381-3033-48ed-924d-12eb84d95d85"
      },
      "source": [
        "elMayorDeTresV2(1,2,3)\n"
      ],
      "execution_count": null,
      "outputs": [
        {
          "output_type": "execute_result",
          "data": {
            "text/plain": [
              "3"
            ]
          },
          "metadata": {
            "tags": []
          },
          "execution_count": 4
        }
      ]
    },
    {
      "cell_type": "code",
      "metadata": {
        "id": "3vpBC0PM2jR1",
        "colab": {
          "base_uri": "https://localhost:8080/"
        },
        "outputId": "915fdd44-8a0b-4141-c03b-f440770f6da3"
      },
      "source": [
        "elMayorDeTresV2(3,3,2)"
      ],
      "execution_count": null,
      "outputs": [
        {
          "output_type": "execute_result",
          "data": {
            "text/plain": [
              "3"
            ]
          },
          "metadata": {
            "tags": []
          },
          "execution_count": 5
        }
      ]
    },
    {
      "cell_type": "code",
      "metadata": {
        "id": "L5szRYm12nZ1",
        "colab": {
          "base_uri": "https://localhost:8080/"
        },
        "outputId": "135df65d-ead7-458c-a4bd-821acda3ce0c"
      },
      "source": [
        "elMayorDeTresV2(1,2,3)"
      ],
      "execution_count": null,
      "outputs": [
        {
          "output_type": "execute_result",
          "data": {
            "text/plain": [
              "3"
            ]
          },
          "metadata": {
            "tags": []
          },
          "execution_count": 6
        }
      ]
    },
    {
      "cell_type": "markdown",
      "metadata": {
        "id": "5nEFbYuSOQUp"
      },
      "source": [
        "## Ejercicio 2)\n",
        "Definir e implementar una función llamada debo_comprar que recibe 3 parametros que representan un valor puntual de la sma3, sma9, sma21 y un 4to opcional que es un booleano volumenEnAumento.\n",
        " Debe devolver True cuando la sma3 es mayor a la sma9 y sma21 y ademas volumenEnAumento esta en True, es un valor opcional y por defecto esta en False, todos los demas casos es Falso \n",
        "\n"
      ]
    },
    {
      "cell_type": "code",
      "metadata": {
        "id": "LFGIJPluKm-l"
      },
      "source": [
        ""
      ],
      "execution_count": null,
      "outputs": []
    },
    {
      "cell_type": "code",
      "metadata": {
        "id": "sBMeqN0qKm3a"
      },
      "source": [
        ""
      ],
      "execution_count": null,
      "outputs": []
    },
    {
      "cell_type": "code",
      "metadata": {
        "id": "ABv7KF77KihZ"
      },
      "source": [
        ""
      ],
      "execution_count": null,
      "outputs": []
    },
    {
      "cell_type": "code",
      "metadata": {
        "id": "yhEh7vXnKiP8"
      },
      "source": [
        ""
      ],
      "execution_count": null,
      "outputs": []
    },
    {
      "cell_type": "code",
      "metadata": {
        "id": "CBVQuj05KiMM"
      },
      "source": [
        ""
      ],
      "execution_count": null,
      "outputs": []
    },
    {
      "cell_type": "markdown",
      "metadata": {
        "id": "Nug2mhaVK3zu"
      },
      "source": [
        "#### Posible Solucion"
      ]
    },
    {
      "cell_type": "code",
      "metadata": {
        "id": "dLuMpPScTyI5"
      },
      "source": [
        "def deboComprar(sma3, sma9, sma18, volumenEnAumento=False):\n",
        "  return sma3 > sma9 and sma3 > sma18 and volumenEnAumento"
      ],
      "execution_count": null,
      "outputs": []
    },
    {
      "cell_type": "code",
      "metadata": {
        "id": "2sQWcrVPU-XI",
        "colab": {
          "base_uri": "https://localhost:8080/"
        },
        "outputId": "fb6dd9f8-b6b9-4852-bc95-57496267e053"
      },
      "source": [
        "deboComprar(10, 9 ,9, volumenEnAumento=True)"
      ],
      "execution_count": null,
      "outputs": [
        {
          "output_type": "execute_result",
          "data": {
            "text/plain": [
              "True"
            ]
          },
          "metadata": {
            "tags": []
          },
          "execution_count": 5
        }
      ]
    },
    {
      "cell_type": "code",
      "metadata": {
        "id": "N0GGCAW7VEnQ",
        "colab": {
          "base_uri": "https://localhost:8080/"
        },
        "outputId": "755426e7-ac3a-4152-8931-c659dfac67dd"
      },
      "source": [
        "deboComprar(10, 9 ,9, volumenEnAumento=False )"
      ],
      "execution_count": null,
      "outputs": [
        {
          "output_type": "execute_result",
          "data": {
            "text/plain": [
              "False"
            ]
          },
          "metadata": {
            "tags": []
          },
          "execution_count": 5
        }
      ]
    },
    {
      "cell_type": "markdown",
      "metadata": {
        "id": "fAbDZDLOePTr"
      },
      "source": [
        "## Ejercicio 3)\n",
        "Definir una funcion llamada costosComisionyDerechos, recibe precio unitario, cantidad y porcentaje de comision, este ultimo expresado numericamente como valor porcentual, devuelve dos valores, el primero el costo de comision y el segundo el derecho de mercado. (por brevedad se simplifica el iva y no se incluye)"
      ]
    },
    {
      "cell_type": "code",
      "metadata": {
        "id": "oVDQDxUuKmT6"
      },
      "source": [
        ""
      ],
      "execution_count": null,
      "outputs": []
    },
    {
      "cell_type": "code",
      "metadata": {
        "id": "-GesGTkLKkoq"
      },
      "source": [
        ""
      ],
      "execution_count": null,
      "outputs": []
    },
    {
      "cell_type": "code",
      "metadata": {
        "id": "1w_7lS5MKlmS"
      },
      "source": [
        ""
      ],
      "execution_count": null,
      "outputs": []
    },
    {
      "cell_type": "code",
      "metadata": {
        "id": "KaPjaR79KkfC"
      },
      "source": [
        ""
      ],
      "execution_count": null,
      "outputs": []
    },
    {
      "cell_type": "code",
      "metadata": {
        "id": "w45-DPIpKkWL"
      },
      "source": [
        ""
      ],
      "execution_count": null,
      "outputs": []
    },
    {
      "cell_type": "markdown",
      "metadata": {
        "id": "d61ajIZBK_h8"
      },
      "source": [
        "#### Posible Solucion"
      ]
    },
    {
      "cell_type": "code",
      "metadata": {
        "id": "VD57qttjehYd"
      },
      "source": [
        "def costosComisionyDerechos(precio, cantidad, porcentajeComision, porcentajeDerechoMercado=0):\n",
        "  comision =   precio * cantidad *  porcentajeComision/100\n",
        "  derechoMercado = (precio * cantidad + comision) * porcentajeDerechoMercado / 100\n",
        "  return comision, derechoMercado"
      ],
      "execution_count": null,
      "outputs": []
    },
    {
      "cell_type": "code",
      "metadata": {
        "id": "m3uAP_Kdeusf",
        "colab": {
          "base_uri": "https://localhost:8080/"
        },
        "outputId": "432336c3-6470-46de-e341-1f4bd4667f42"
      },
      "source": [
        "costosComisionyDerechos(100, 10, 0.3, 0.08)"
      ],
      "execution_count": null,
      "outputs": [
        {
          "output_type": "execute_result",
          "data": {
            "text/plain": [
              "(3.0, 0.8024)"
            ]
          },
          "metadata": {
            "tags": []
          },
          "execution_count": 13
        }
      ]
    },
    {
      "cell_type": "code",
      "metadata": {
        "id": "dThGy-Kre-v_",
        "colab": {
          "base_uri": "https://localhost:8080/"
        },
        "outputId": "6b06fed1-f60e-4ba0-d287-782f0f160c50"
      },
      "source": [
        ""
      ],
      "execution_count": null,
      "outputs": [
        {
          "output_type": "execute_result",
          "data": {
            "text/plain": [
              "1005.8039999999999"
            ]
          },
          "metadata": {
            "tags": []
          },
          "execution_count": 59
        }
      ]
    },
    {
      "cell_type": "markdown",
      "metadata": {
        "id": "9UD6IHKIfq3r"
      },
      "source": [
        "#### Ejercicio 4)\n",
        "Definir e implementar una funcion de nombre calcularTakeProfit, que recibe un numero que representa la posición y un numero que representa el porcentaje considerado para la toma de ganancias."
      ]
    },
    {
      "cell_type": "code",
      "metadata": {
        "id": "BbcG-8-4Krcs"
      },
      "source": [
        ""
      ],
      "execution_count": null,
      "outputs": []
    },
    {
      "cell_type": "code",
      "metadata": {
        "id": "DWsgtHbkKrTM"
      },
      "source": [
        ""
      ],
      "execution_count": null,
      "outputs": []
    },
    {
      "cell_type": "code",
      "metadata": {
        "id": "LdE02J2tKrJK"
      },
      "source": [
        ""
      ],
      "execution_count": null,
      "outputs": []
    },
    {
      "cell_type": "code",
      "metadata": {
        "id": "M3m-5lLPKq9m"
      },
      "source": [
        ""
      ],
      "execution_count": null,
      "outputs": []
    },
    {
      "cell_type": "code",
      "metadata": {
        "id": "Qj9uZiMPKq1C"
      },
      "source": [
        ""
      ],
      "execution_count": null,
      "outputs": []
    },
    {
      "cell_type": "markdown",
      "metadata": {
        "id": "jyeSp9l-LH1t"
      },
      "source": [
        "#### Posible Solucion"
      ]
    },
    {
      "cell_type": "code",
      "metadata": {
        "id": "B2uMIUO_hLqG"
      },
      "source": [
        "def calcularTakeProfit(posicion, porcentaje):\n",
        "  return posicion * (1 + porcentaje)"
      ],
      "execution_count": null,
      "outputs": []
    },
    {
      "cell_type": "code",
      "metadata": {
        "id": "q9VNhRLPhsta",
        "colab": {
          "base_uri": "https://localhost:8080/"
        },
        "outputId": "4c92e715-5d5b-4862-e3e6-fbaa8cc8de3e"
      },
      "source": [
        "calcularTakeProfit(1000, 0.05)"
      ],
      "execution_count": null,
      "outputs": [
        {
          "output_type": "execute_result",
          "data": {
            "text/plain": [
              "1050.0"
            ]
          },
          "metadata": {
            "tags": []
          },
          "execution_count": 15
        }
      ]
    },
    {
      "cell_type": "code",
      "metadata": {
        "id": "np9hqd9MhwHF"
      },
      "source": [
        ""
      ],
      "execution_count": null,
      "outputs": []
    },
    {
      "cell_type": "markdown",
      "metadata": {
        "id": "EqhTs26Jk5oL"
      },
      "source": [
        "## Ejercicio 5)\n",
        "Definir e implementar una funcion que dado un precio unitario, una cantidad, una comision, un porcentaje de takeprofit y otro de stoploss me devuelva calculado todos esos datos."
      ]
    },
    {
      "cell_type": "markdown",
      "metadata": {
        "id": "3I2yZX6yk6V6"
      },
      "source": [
        "Algoritmo\n",
        "1.- Inicio\n",
        " \n",
        "2.- calcular y asignar a una variable el valor de la comision\n",
        "\n",
        "3.- calcular y asignar a una variable el valor del takeprofit\n",
        "\n",
        "4.- calcular y asignar a una variable el valor del stop loss\n",
        "\n",
        "5.-  retornar las variables separadas por coma.\n",
        "\n",
        "FIN\n",
        "\n"
      ]
    },
    {
      "cell_type": "code",
      "metadata": {
        "id": "Q0rVoZlRlyVb"
      },
      "source": [
        ""
      ],
      "execution_count": null,
      "outputs": []
    },
    {
      "cell_type": "code",
      "metadata": {
        "id": "PJkZmre7LKcD"
      },
      "source": [
        ""
      ],
      "execution_count": null,
      "outputs": []
    },
    {
      "cell_type": "code",
      "metadata": {
        "id": "a88D-eP5LKQG"
      },
      "source": [
        ""
      ],
      "execution_count": null,
      "outputs": []
    },
    {
      "cell_type": "code",
      "metadata": {
        "id": "oE4k1b0MLKHD"
      },
      "source": [
        ""
      ],
      "execution_count": null,
      "outputs": []
    },
    {
      "cell_type": "code",
      "metadata": {
        "id": "S_0qJDZgLJ-v"
      },
      "source": [
        ""
      ],
      "execution_count": null,
      "outputs": []
    },
    {
      "cell_type": "code",
      "metadata": {
        "id": "-qvXvJ1dmdQR"
      },
      "source": [
        "def volumenPrevioMenorAlActual(volAyer, volHoy):\n",
        "  return volAyer < volHoy"
      ],
      "execution_count": null,
      "outputs": []
    },
    {
      "cell_type": "code",
      "metadata": {
        "id": "7zYb9I5ZeILs"
      },
      "source": [
        "volumenPrevioMenorAlActual(100, 200)"
      ],
      "execution_count": null,
      "outputs": []
    },
    {
      "cell_type": "code",
      "metadata": {
        "id": "VnTSVLareLuK"
      },
      "source": [
        ""
      ],
      "execution_count": null,
      "outputs": []
    }
  ]
}