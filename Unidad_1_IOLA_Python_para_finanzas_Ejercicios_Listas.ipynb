{
  "nbformat": 4,
  "nbformat_minor": 0,
  "metadata": {
    "kernelspec": {
      "display_name": "p36workshop",
      "language": "python",
      "name": "p36workshop"
    },
    "language_info": {
      "codemirror_mode": {
        "name": "ipython",
        "version": 3
      },
      "file_extension": ".py",
      "mimetype": "text/x-python",
      "name": "python",
      "nbconvert_exporter": "python",
      "pygments_lexer": "ipython3",
      "version": "3.6.10"
    },
    "colab": {
      "name": "Unidad 1: IOLA Python para finanzas - Ejercicios Listas.ipynb",
      "provenance": [],
      "collapsed_sections": [],
      "include_colab_link": true
    }
  },
  "cells": [
    {
      "cell_type": "markdown",
      "metadata": {
        "id": "view-in-github",
        "colab_type": "text"
      },
      "source": [
        "<a href=\"https://colab.research.google.com/github/ferroblesmdq12/Arboles/blob/main/Unidad_1_IOLA_Python_para_finanzas_Ejercicios_Listas.ipynb\" target=\"_parent\"><img src=\"https://colab.research.google.com/assets/colab-badge.svg\" alt=\"Open In Colab\"/></a>"
      ]
    },
    {
      "cell_type": "markdown",
      "metadata": {
        "id": "5ws4FNk1Fsrm"
      },
      "source": [
        "# Guia de ejercicios de listas\n",
        "**Profesor**: Ignacio Guardines\n",
        "<br>\n",
        "**telegram | twitter** :@nacho_java "
      ]
    },
    {
      "cell_type": "markdown",
      "metadata": {
        "id": "9HfRR2adFsrp"
      },
      "source": [
        "#### Ejercicio 1 \n",
        "- Crear una lista de números, asignarlos a una variable e imprimir dicha variable."
      ]
    },
    {
      "cell_type": "code",
      "metadata": {
        "id": "XJBWA11iFsrp"
      },
      "source": [
        ""
      ],
      "execution_count": null,
      "outputs": []
    },
    {
      "cell_type": "code",
      "metadata": {
        "id": "M9gLJNpkFsrq"
      },
      "source": [
        ""
      ],
      "execution_count": null,
      "outputs": []
    },
    {
      "cell_type": "code",
      "metadata": {
        "id": "BqSInHsqFsrq"
      },
      "source": [
        ""
      ],
      "execution_count": null,
      "outputs": []
    },
    {
      "cell_type": "code",
      "metadata": {
        "id": "s7DHdMCIFsrq",
        "colab": {
          "base_uri": "https://localhost:8080/"
        },
        "outputId": "5b9fedde-88f2-4f15-e226-b70cd1294edd"
      },
      "source": [
        "## Posible solución\n",
        "lista_numero = [1,2,3,4,5,6,7,8,9,10]\n",
        "print(lista_numero)\n",
        "\n",
        "## jupyter notebook (aca colab) nos muestra el contenido de la variable\n",
        "## si esta es puesta en la ultima linea de la celda\n",
        "lista_numero"
      ],
      "execution_count": null,
      "outputs": [
        {
          "output_type": "stream",
          "text": [
            "[1, 2, 3, 4, 5, 6, 7, 8, 9, 0]\n"
          ],
          "name": "stdout"
        },
        {
          "output_type": "execute_result",
          "data": {
            "text/plain": [
              "[1, 2, 3, 4, 5, 6, 7, 8, 9, 0]"
            ]
          },
          "metadata": {
            "tags": []
          },
          "execution_count": 6
        }
      ]
    },
    {
      "cell_type": "markdown",
      "metadata": {
        "id": "O4rBfwalFsrq"
      },
      "source": [
        "#### Ejercicio 2 \n",
        "- a la lista creada anteriormente concatenarle una nueva lista formada por [\"uno\",\"dos\",\"tres\",\"cuatro\"] el resultado de la concatenación asignarlo a otra variable e imprimirlo.\n",
        "Nota: hacerlo de las dos maneras\n",
        "1) lista = lista + ... \n",
        "2) y con el syntactic sugar +=\n"
      ]
    },
    {
      "cell_type": "code",
      "metadata": {
        "id": "T1r_ubW1Fsrr"
      },
      "source": [
        ""
      ],
      "execution_count": null,
      "outputs": []
    },
    {
      "cell_type": "code",
      "metadata": {
        "id": "9Wn-XWQDFsrr"
      },
      "source": [
        ""
      ],
      "execution_count": null,
      "outputs": []
    },
    {
      "cell_type": "code",
      "metadata": {
        "id": "1-0w8058ezh5"
      },
      "source": [
        ""
      ],
      "execution_count": null,
      "outputs": []
    },
    {
      "cell_type": "code",
      "metadata": {
        "id": "iOyTYXiUezLm"
      },
      "source": [
        "## Solución de las dos formas\n",
        "## sin asignacion destructiva, lista_numero sigue manteniendo 1,2,3,4\n",
        "lista_mixta = lista_numero + [\"uno\",\"dos\",\"tres\",\"cuatro\"]\n",
        "print(f\"en una nueva variable {lista_mixta}\")\n",
        "\n",
        "# Aca si hay asignación destructiva, el contenido de lista_numero se re asigna\n",
        "lista_numero = lista_numero + [\"uno\",\"dos\",\"tres\",\"cuatro\"]\n",
        "print(f\"en la misma variable pisando el valor anterior {lista_numero}\")\n",
        "## como en la ejecucion anterior perdi el valor original lo vuelvo a crear\n",
        "\n",
        "lista_numero = [1,2,3,4,5,6,7,8,9,10]\n",
        "## acá tambien hay asignación destructiva\n",
        "lista_numero += [\"uno\",\"dos\",\"tres\",\"cuatro\"]\n",
        "print(f\"en la misma variable pisando el valor anterior y usando un atajo {lista_numero}\")"
      ],
      "execution_count": null,
      "outputs": []
    },
    {
      "cell_type": "markdown",
      "metadata": {
        "id": "DnoPpiKjFsrr"
      },
      "source": [
        "#### Ejercicio 3\n",
        " Dada la lista =  [1,2,3,4,5,6,7,8,9,10]\n",
        "- Duplicar el contenido de la lista con el operador * e imprimirlo (no modificar la lista original) \n",
        "- Acceder a la posicion 0 de la lista e imprimir su contenido\n",
        "- Acceder a la ultima posicion de la lista por medio de len(lista) -1 e imprimir su contenido\n",
        "- A la lista lista del ejercicio 1 (la de 10 numeros) por medio de la funcion reverse invertir los elementos\n",
        "- Quitar e imprimir el ultimo elemento de la lista, imprimir ademas la lista con un elemento menos "
      ]
    },
    {
      "cell_type": "code",
      "metadata": {
        "id": "RsNSvijiFsrs"
      },
      "source": [
        ""
      ],
      "execution_count": null,
      "outputs": []
    },
    {
      "cell_type": "code",
      "metadata": {
        "id": "QAEPOmUUFsrs"
      },
      "source": [
        "## Solución \n",
        "## setup\n",
        "lista = [1,2,3,4,5,6,7,8,9,10]\n",
        "#1\n",
        "print(lista * 2)\n",
        "\n",
        "#2\n",
        "print(lista[0])\n",
        "\n",
        "#3\n",
        "print(len(lista)-1)\n",
        "\n",
        "#4\n",
        "lista.reverse()\n",
        "print(lista)\n",
        "\n",
        "#5\n",
        "lista.pop()\n",
        "print(lista) \n"
      ],
      "execution_count": null,
      "outputs": []
    },
    {
      "cell_type": "code",
      "metadata": {
        "id": "-U8PZICjFsrs"
      },
      "source": [
        ""
      ],
      "execution_count": null,
      "outputs": []
    },
    {
      "cell_type": "code",
      "metadata": {
        "id": "yyuYR9JnFsrt"
      },
      "source": [
        ""
      ],
      "execution_count": null,
      "outputs": []
    },
    {
      "cell_type": "markdown",
      "metadata": {
        "id": "mEeA5qXxFsru"
      },
      "source": [
        "#### Ejercicio 4\n",
        "Con la funcion append() agregar el elemento 1 previamente borrado con la funcion pop() a la lista anterior e imprimir la lista.\n"
      ]
    },
    {
      "cell_type": "code",
      "metadata": {
        "id": "sOr8uHZcFsru"
      },
      "source": [
        ""
      ],
      "execution_count": null,
      "outputs": []
    },
    {
      "cell_type": "code",
      "metadata": {
        "id": "XNnT6VAqFsru"
      },
      "source": [
        ""
      ],
      "execution_count": null,
      "outputs": []
    },
    {
      "cell_type": "code",
      "metadata": {
        "id": "Dp0KDbFKhvJs"
      },
      "source": [
        ""
      ],
      "execution_count": null,
      "outputs": []
    },
    {
      "cell_type": "code",
      "metadata": {
        "id": "-331HhIGFsru",
        "colab": {
          "base_uri": "https://localhost:8080/"
        },
        "outputId": "2c6b6f27-198e-4791-df3c-3f6ca8f49590"
      },
      "source": [
        "## Solución \n",
        "lista.append(1)\n",
        "print(lista)"
      ],
      "execution_count": null,
      "outputs": [
        {
          "output_type": "stream",
          "text": [
            "[10, 9, 8, 7, 6, 5, 4, 3, 2, 1]\n"
          ],
          "name": "stdout"
        }
      ]
    },
    {
      "cell_type": "markdown",
      "metadata": {
        "id": "jCS_V4obFsrv"
      },
      "source": [
        "#### Ejercicio 5\n",
        "Dada la siguiente lista = [1,2,3,4,5,6,7,8,9]\n",
        "- Por medio del la función pop(indice) quitar el elemento cuyo valor es 3 de la lista e imprimir la lista resultante.\n",
        "- Ahora y de una mejor forma quitar el elemento 6 con la funcion list.remove(element) esta funcion busca el elemento y si lo encuentra lo borra, luego imprimir el resultado."
      ]
    },
    {
      "cell_type": "code",
      "metadata": {
        "id": "b__HtHTCFsrv"
      },
      "source": [
        ""
      ],
      "execution_count": null,
      "outputs": []
    },
    {
      "cell_type": "code",
      "metadata": {
        "id": "cBvS1GiIFsrv"
      },
      "source": [
        ""
      ],
      "execution_count": null,
      "outputs": []
    },
    {
      "cell_type": "code",
      "metadata": {
        "id": "_XH-fx5uFsrv"
      },
      "source": [
        ""
      ],
      "execution_count": null,
      "outputs": []
    },
    {
      "cell_type": "code",
      "metadata": {
        "id": "8nYCeIbLFsrv",
        "colab": {
          "base_uri": "https://localhost:8080/"
        },
        "outputId": "6bdc8172-45a2-4b7c-8da6-6edfdf623005"
      },
      "source": [
        "## Solución\n",
        "# setup\n",
        "lista = [1,2,3,4,5,6,7,8,9]\n",
        "\n",
        "#1 \n",
        "lista.pop(2)\n",
        "print(lista)\n",
        "\n",
        "#2\n",
        "lista.remove(6)\n",
        "print(lista)"
      ],
      "execution_count": null,
      "outputs": [
        {
          "output_type": "stream",
          "text": [
            "[1, 2, 4, 5, 6, 7, 8, 9]\n",
            "[1, 2, 4, 5, 7, 8, 9]\n"
          ],
          "name": "stdout"
        }
      ]
    },
    {
      "cell_type": "code",
      "metadata": {
        "id": "ghnYfl-KFsrv"
      },
      "source": [
        ""
      ],
      "execution_count": null,
      "outputs": []
    },
    {
      "cell_type": "code",
      "metadata": {
        "id": "gH7QH_0qFsrv"
      },
      "source": [
        ""
      ],
      "execution_count": null,
      "outputs": []
    },
    {
      "cell_type": "markdown",
      "metadata": {
        "id": "dwmAa0paFsrw"
      },
      "source": [
        "#### Ejercicio 6\n",
        "Con la funcion index() buscar la posicion e imprimir el elemento cuyo valor es 3."
      ]
    },
    {
      "cell_type": "code",
      "metadata": {
        "id": "5TbD9tEeFsrw"
      },
      "source": [
        ""
      ],
      "execution_count": null,
      "outputs": []
    },
    {
      "cell_type": "code",
      "metadata": {
        "id": "mmRysY_WFsrw"
      },
      "source": [
        ""
      ],
      "execution_count": null,
      "outputs": []
    },
    {
      "cell_type": "code",
      "metadata": {
        "id": "nS7dXCm4iyUp"
      },
      "source": [
        ""
      ],
      "execution_count": null,
      "outputs": []
    },
    {
      "cell_type": "code",
      "metadata": {
        "id": "QHOHl0-uFsrw",
        "colab": {
          "base_uri": "https://localhost:8080/"
        },
        "outputId": "d5cb45f5-ab4b-4a6b-e1e7-419dbcd25f4f"
      },
      "source": [
        "## Solución\n",
        "\n",
        "#setup \n",
        "## Aca en el ejercicio previo borre el elemento 3 y ademas no seria conveniente \n",
        "## que haya relacion entre ejercicios, vuelvo a crear la lista\n",
        "## ahora con el generador range y con el constructor de listas list()\n",
        "lista = list(range(10))\n",
        "posicion_del_tres = lista.index(3)\n",
        "print(lista)\n",
        "print(posicion_del_tres)"
      ],
      "execution_count": null,
      "outputs": [
        {
          "output_type": "stream",
          "text": [
            "[0, 1, 2, 3, 4, 5, 6, 7, 8, 9]\n",
            "3\n"
          ],
          "name": "stdout"
        }
      ]
    },
    {
      "cell_type": "code",
      "metadata": {
        "id": "BuDpaUfRFsrw"
      },
      "source": [
        ""
      ],
      "execution_count": null,
      "outputs": []
    },
    {
      "cell_type": "markdown",
      "metadata": {
        "id": "9_jI558yFsrw"
      },
      "source": [
        "#### Ejercicio 7\n",
        "- con la funcion index(...) buscar e imprimir un elemento no presente en la lista"
      ]
    },
    {
      "cell_type": "code",
      "metadata": {
        "id": "EYvfb8O1Fsrx"
      },
      "source": [
        ""
      ],
      "execution_count": null,
      "outputs": []
    },
    {
      "cell_type": "code",
      "metadata": {
        "id": "PPStu0NuFsrx"
      },
      "source": [
        ""
      ],
      "execution_count": null,
      "outputs": []
    },
    {
      "cell_type": "code",
      "metadata": {
        "id": "tocMy74kFsrx"
      },
      "source": [
        ""
      ],
      "execution_count": null,
      "outputs": []
    },
    {
      "cell_type": "code",
      "metadata": {
        "id": "6_plUKg5Fsrx"
      },
      "source": [
        "## Solución\n",
        "## aca la idea es que falle, mostrando un valueError al \n",
        "## buscar un valor inexistente\n",
        "\n",
        "#setup \n",
        "lista = list(range(10))\n",
        "lista.index(11)"
      ],
      "execution_count": null,
      "outputs": []
    },
    {
      "cell_type": "markdown",
      "metadata": {
        "id": "6Qz_pMKbFsrx"
      },
      "source": [
        "#### Ejercicio 8\n",
        "- Reemplazar el contenido de la ubicacion 5 de la lista con el valor 25 e imprimir la lista.\n",
        "\n",
        "hint: lista[posicion] = nuevoValor"
      ]
    },
    {
      "cell_type": "code",
      "metadata": {
        "id": "zWAamgTQFsrx"
      },
      "source": [
        ""
      ],
      "execution_count": null,
      "outputs": []
    },
    {
      "cell_type": "code",
      "metadata": {
        "id": "JD8oepe4Fsry"
      },
      "source": [
        ""
      ],
      "execution_count": null,
      "outputs": []
    },
    {
      "cell_type": "code",
      "metadata": {
        "id": "AFznCCGWFsry"
      },
      "source": [
        ""
      ],
      "execution_count": null,
      "outputs": []
    },
    {
      "cell_type": "code",
      "metadata": {
        "id": "x6wgXYW6Fsry",
        "colab": {
          "base_uri": "https://localhost:8080/"
        },
        "outputId": "dc0e6e7c-d896-4128-e887-41305d872c65"
      },
      "source": [
        "## Solución\n",
        "## aca la idea es asignar pero a una posicion en particular y no a la variable\n",
        "## en gral\n",
        "\n",
        "#setup \n",
        "lista = list(range(10))\n",
        "\n",
        "lista[5] = 25\n",
        "lista"
      ],
      "execution_count": null,
      "outputs": [
        {
          "output_type": "execute_result",
          "data": {
            "text/plain": [
              "[0, 1, 2, 3, 4, 25, 6, 7, 8, 9]"
            ]
          },
          "metadata": {
            "tags": []
          },
          "execution_count": 15
        }
      ]
    },
    {
      "cell_type": "code",
      "metadata": {
        "id": "2oKeBc57Fsry"
      },
      "source": [
        ""
      ],
      "execution_count": null,
      "outputs": []
    },
    {
      "cell_type": "code",
      "metadata": {
        "id": "PtkkeQymFsry"
      },
      "source": [
        ""
      ],
      "execution_count": null,
      "outputs": []
    },
    {
      "cell_type": "markdown",
      "metadata": {
        "id": "52JE1wo0Fsry"
      },
      "source": [
        "#### Ejercicio 9\n",
        "- Por medio de la función insert() agregar en el tercer lugar de la lista el valor 1000."
      ]
    },
    {
      "cell_type": "code",
      "metadata": {
        "id": "uHS9vmNBFsrz"
      },
      "source": [
        ""
      ],
      "execution_count": null,
      "outputs": []
    },
    {
      "cell_type": "code",
      "metadata": {
        "id": "EvqSgE9BFsrz"
      },
      "source": [
        ""
      ],
      "execution_count": null,
      "outputs": []
    },
    {
      "cell_type": "code",
      "metadata": {
        "id": "xT0Z1lK4Fsrz"
      },
      "source": [
        ""
      ],
      "execution_count": null,
      "outputs": []
    },
    {
      "cell_type": "code",
      "metadata": {
        "id": "RSX4d4ViFsrz"
      },
      "source": [
        ""
      ],
      "execution_count": null,
      "outputs": []
    },
    {
      "cell_type": "code",
      "metadata": {
        "id": "4vmVy5UzFsrz",
        "colab": {
          "base_uri": "https://localhost:8080/"
        },
        "outputId": "fa4f47f8-cfe3-4528-c505-985cc40bec3c"
      },
      "source": [
        "## Solución\n",
        "\n",
        "#setup \n",
        "lista = list(range(10))\n",
        "\n",
        "lista.insert(3,1000)\n",
        "lista"
      ],
      "execution_count": null,
      "outputs": [
        {
          "output_type": "execute_result",
          "data": {
            "text/plain": [
              "[0, 1, 2, 1000, 3, 4, 5, 6, 7, 8, 9]"
            ]
          },
          "metadata": {
            "tags": []
          },
          "execution_count": 16
        }
      ]
    },
    {
      "cell_type": "markdown",
      "metadata": {
        "id": "gwmf03XPFsrz"
      },
      "source": [
        "#### Ejercicio 10\n",
        "\n",
        "- Contar la cantidad de veces que aparece un elemento en una lista\n",
        "- Dada la lista = [2,3,4,5,2,3,3,2]  por medio de la funcion count() contar e imprimir la cantidad de veces que aparece repetido el numero 2"
      ]
    },
    {
      "cell_type": "code",
      "metadata": {
        "id": "fZAz1wovFsrz"
      },
      "source": [
        ""
      ],
      "execution_count": null,
      "outputs": []
    },
    {
      "cell_type": "code",
      "metadata": {
        "id": "Hb1t7hu8Fsr0"
      },
      "source": [
        ""
      ],
      "execution_count": null,
      "outputs": []
    },
    {
      "cell_type": "code",
      "metadata": {
        "id": "Rw78rktoFsr0"
      },
      "source": [
        ""
      ],
      "execution_count": null,
      "outputs": []
    },
    {
      "cell_type": "code",
      "metadata": {
        "id": "3hCs2ZRcFsr0",
        "colab": {
          "base_uri": "https://localhost:8080/"
        },
        "outputId": "fe600874-6b1b-4dcb-e1ba-c09becc5c3fa"
      },
      "source": [
        "## Solución\n",
        "\n",
        "#setup \n",
        "lista = list(range(10))\n",
        "lista.append(2)\n",
        "lista.append(3)\n",
        "#1\n",
        "# se por haberlo definido de tal modo que deberian haber 2 veces el nro 3\n",
        "print(f\"Cantidad de veces que aparece el nro 3: {lista.count(3)}\")\n",
        "\n",
        "#2\n",
        "#setup\n",
        "lista = [2,3,4,5,2,3,3,2]\n",
        "print(f\"Cantitdad de veces que aparece el nro 2: {lista.count(2)}\")"
      ],
      "execution_count": null,
      "outputs": [
        {
          "output_type": "stream",
          "text": [
            "Cantidad de veces que aparece el nro 3: 2\n",
            "Cantitdad de veces que aparece el nro 2: 3\n"
          ],
          "name": "stdout"
        }
      ]
    },
    {
      "cell_type": "code",
      "metadata": {
        "id": "SM8W2eu9Fsr0"
      },
      "source": [
        ""
      ],
      "execution_count": null,
      "outputs": []
    },
    {
      "cell_type": "code",
      "metadata": {
        "id": "P5EZg41pFsr0"
      },
      "source": [
        ""
      ],
      "execution_count": null,
      "outputs": []
    },
    {
      "cell_type": "markdown",
      "metadata": {
        "id": "qjIObwqLFsr0"
      },
      "source": [
        "#### Ejercicio 11\n",
        "\n",
        "Contar ahora la cantidad de veces que aparece un elemento tupla en una lista lista = ['a', ('a', 'b'), ('a', 'b'), [3, 4]]\n",
        "\n",
        "- Contar la cantidad de veces que aparece la tupla ('a', 'b') e imprimir dicho valor "
      ]
    },
    {
      "cell_type": "code",
      "metadata": {
        "id": "kUowtHJmFsr0"
      },
      "source": [
        ""
      ],
      "execution_count": null,
      "outputs": []
    },
    {
      "cell_type": "code",
      "metadata": {
        "id": "FfipolO2Fsr0"
      },
      "source": [
        ""
      ],
      "execution_count": null,
      "outputs": []
    },
    {
      "cell_type": "code",
      "metadata": {
        "id": "QI6xPBp5Fsr1",
        "colab": {
          "base_uri": "https://localhost:8080/"
        },
        "outputId": "8834de21-5fe6-4dd7-8690-bee66ab05a8a"
      },
      "source": [
        "## Solución\n",
        "#setup\n",
        "lista = ['a', ('a', 'b'), ('a', 'b'), [3, 4]]\n",
        "lista.count(('a','b'))\n"
      ],
      "execution_count": null,
      "outputs": [
        {
          "output_type": "execute_result",
          "data": {
            "text/plain": [
              "2"
            ]
          },
          "metadata": {
            "tags": []
          },
          "execution_count": 21
        }
      ]
    },
    {
      "cell_type": "markdown",
      "metadata": {
        "id": "u_Fly3E9Fsr2"
      },
      "source": [
        "#### Ejercicio 12\n",
        "Dada una lista desordenada de vocales =   ['e', 'a', 'u', 'o', 'i']\n",
        " - Ordenarla con la función sort() en modo ascendente\n",
        " - Ordenarla con la función sort() en modo descendente sort(reverse=True)\n",
        " - Utilizar la función sorted(lista)\n",
        " - Utilizar la función sorted(lista, reverse=True)\n",
        " \n",
        " En todos los casos imprimir los resultados"
      ]
    },
    {
      "cell_type": "code",
      "metadata": {
        "id": "x0S5oEvRFsr2"
      },
      "source": [
        ""
      ],
      "execution_count": null,
      "outputs": []
    },
    {
      "cell_type": "code",
      "metadata": {
        "id": "sTSOA11gFsr2"
      },
      "source": [
        ""
      ],
      "execution_count": null,
      "outputs": []
    },
    {
      "cell_type": "code",
      "metadata": {
        "id": "F6srVmNXFsr2"
      },
      "source": [
        ""
      ],
      "execution_count": null,
      "outputs": []
    },
    {
      "cell_type": "code",
      "metadata": {
        "id": "2CSkycxeFsr2",
        "colab": {
          "base_uri": "https://localhost:8080/"
        },
        "outputId": "ec76f36a-57cf-46ad-f3c4-7706961a2246"
      },
      "source": [
        "## Solucion\n",
        "\n",
        "#setup\n",
        "vocales = ['e', 'a', 'u', 'o', 'i']\n",
        "\n",
        "#1 \n",
        "vocales.sort()\n",
        "print(f\"vocales en modo ascendente {vocales}\")\n",
        "\n",
        "#2\n",
        "vocales.sort(reverse= True)\n",
        "print(f\"vocales en modo descendente {vocales}\")\n",
        "\n",
        "#3\n",
        "sorted(vocales)\n",
        "print(f\"vocales usando sorted {vocales}\")\n",
        "\n",
        "#4\n",
        "sorted(vocales, reverse=True)\n",
        "print(f\"vocales usando sorted y reverse en True {vocales}\")"
      ],
      "execution_count": null,
      "outputs": [
        {
          "output_type": "stream",
          "text": [
            "vocales en modo ascendente ['a', 'e', 'i', 'o', 'u']\n",
            "vocales en modo descendente ['u', 'o', 'i', 'e', 'a']\n",
            "vocales usando sorted ['u', 'o', 'i', 'e', 'a']\n",
            "vocales usando sorted y reverse en True ['u', 'o', 'i', 'e', 'a']\n"
          ],
          "name": "stdout"
        }
      ]
    },
    {
      "cell_type": "code",
      "metadata": {
        "id": "A1f84EsIFsr2"
      },
      "source": [
        ""
      ],
      "execution_count": null,
      "outputs": []
    },
    {
      "cell_type": "code",
      "metadata": {
        "id": "KtHqjVsxFsr2"
      },
      "source": [
        ""
      ],
      "execution_count": null,
      "outputs": []
    },
    {
      "cell_type": "code",
      "metadata": {
        "id": "uPCvqpegFsr3"
      },
      "source": [
        ""
      ],
      "execution_count": null,
      "outputs": []
    },
    {
      "cell_type": "markdown",
      "metadata": {
        "id": "Cwxiqq2uFsr3"
      },
      "source": [
        "Ejercicio 13\n",
        "\n",
        "Crear una lista de valores y dicha lista copiarla asignando a una nueva variable, sobre la primera lista remover un valor, e imprimir la segunda lista \"copiada\", comprobar que el valor removido de la primera lista tambien fué removido de la segunda."
      ]
    },
    {
      "cell_type": "code",
      "metadata": {
        "id": "-Ox26u2KFsr3"
      },
      "source": [
        ""
      ],
      "execution_count": null,
      "outputs": []
    },
    {
      "cell_type": "code",
      "metadata": {
        "id": "XgO8618XFsr3"
      },
      "source": [
        ""
      ],
      "execution_count": null,
      "outputs": []
    },
    {
      "cell_type": "code",
      "metadata": {
        "id": "mfo75G3rFsr3"
      },
      "source": [
        ""
      ],
      "execution_count": null,
      "outputs": []
    },
    {
      "cell_type": "code",
      "metadata": {
        "id": "j2jyNhyEFsr3",
        "colab": {
          "base_uri": "https://localhost:8080/"
        },
        "outputId": "a5c975ae-9830-4169-a6c6-2219f9ffe44f"
      },
      "source": [
        "## Solucion\n",
        "\n",
        "#Setup\n",
        "lista = [1,2,3,4]\n",
        "lista_2 = lista\n",
        "\n",
        "lista.remove(1)\n",
        "print(lista)\n",
        "print(lista_2)"
      ],
      "execution_count": null,
      "outputs": [
        {
          "output_type": "stream",
          "text": [
            "[2, 3, 4]\n",
            "[2, 3, 4]\n"
          ],
          "name": "stdout"
        }
      ]
    },
    {
      "cell_type": "markdown",
      "metadata": {
        "id": "tebXd7-MFsr3"
      },
      "source": [
        "#### Ejercicio 14\n",
        "\n",
        "Dada la lista del ejemplo anterior utilizar la función list.copy() asignar el valor a la lista2 y comprobar que en este caso si borro un elemento de la lista1, no se borra de la lista 2."
      ]
    },
    {
      "cell_type": "code",
      "metadata": {
        "id": "snk9EH-PFsr4"
      },
      "source": [
        ""
      ],
      "execution_count": null,
      "outputs": []
    },
    {
      "cell_type": "code",
      "metadata": {
        "id": "CvV2OQ78Fsr4"
      },
      "source": [
        ""
      ],
      "execution_count": null,
      "outputs": []
    },
    {
      "cell_type": "code",
      "metadata": {
        "id": "dw6zXbRKFsr4"
      },
      "source": [
        ""
      ],
      "execution_count": null,
      "outputs": []
    },
    {
      "cell_type": "code",
      "metadata": {
        "id": "d5O_IuvjFsr4",
        "colab": {
          "base_uri": "https://localhost:8080/"
        },
        "outputId": "c6e87df4-b55a-4372-8309-e511cd5f4124"
      },
      "source": [
        "## Solucion\n",
        "\n",
        "#Setup\n",
        "lista = [1,2,3,4]\n",
        "lista_2 = lista.copy()\n",
        "\n",
        "lista.remove(1)\n",
        "print(lista)\n",
        "print(lista_2)"
      ],
      "execution_count": null,
      "outputs": [
        {
          "output_type": "stream",
          "text": [
            "[2, 3, 4]\n",
            "[1, 2, 3, 4]\n"
          ],
          "name": "stdout"
        }
      ]
    },
    {
      "cell_type": "code",
      "metadata": {
        "id": "j3XCN5gkFsr4"
      },
      "source": [
        ""
      ],
      "execution_count": null,
      "outputs": []
    }
  ]
}