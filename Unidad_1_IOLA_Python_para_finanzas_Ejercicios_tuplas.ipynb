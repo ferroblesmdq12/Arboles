{
  "nbformat": 4,
  "nbformat_minor": 0,
  "metadata": {
    "kernelspec": {
      "display_name": "Python3",
      "language": "python",
      "name": "python3"
    },
    "language_info": {
      "codemirror_mode": {
        "name": "ipython",
        "version": 2
      },
      "file_extension": ".py",
      "mimetype": "text/x-python",
      "name": "python",
      "nbconvert_exporter": "python",
      "pygments_lexer": "ipython2",
      "version": "2.7.16"
    },
    "varInspector": {
      "cols": {
        "lenName": 16,
        "lenType": 16,
        "lenVar": 40
      },
      "kernels_config": {
        "python": {
          "delete_cmd_postfix": "",
          "delete_cmd_prefix": "del ",
          "library": "var_list.py",
          "varRefreshCmd": "print(var_dic_list())"
        },
        "r": {
          "delete_cmd_postfix": ") ",
          "delete_cmd_prefix": "rm(",
          "library": "var_list.r",
          "varRefreshCmd": "cat(var_dic_list()) "
        }
      },
      "types_to_exclude": [
        "module",
        "function",
        "builtin_function_or_method",
        "instance",
        "_Feature"
      ],
      "window_display": false
    },
    "colab": {
      "name": "Unidad 1: IOLA Python para finanzas - Ejercicios tuplas.ipynb",
      "provenance": [],
      "collapsed_sections": [],
      "include_colab_link": true
    }
  },
  "cells": [
    {
      "cell_type": "markdown",
      "metadata": {
        "id": "view-in-github",
        "colab_type": "text"
      },
      "source": [
        "<a href=\"https://colab.research.google.com/github/ferroblesmdq12/Arboles/blob/main/Unidad_1_IOLA_Python_para_finanzas_Ejercicios_tuplas.ipynb\" target=\"_parent\"><img src=\"https://colab.research.google.com/assets/colab-badge.svg\" alt=\"Open In Colab\"/></a>"
      ]
    },
    {
      "cell_type": "markdown",
      "metadata": {
        "id": "pAaZsRMOncIa"
      },
      "source": [
        "### Guía ejercicios tuplas\n",
        "\n"
      ]
    },
    {
      "cell_type": "markdown",
      "metadata": {
        "id": "bdxtSZnFncIb"
      },
      "source": [
        "#### Ejercicio 1 - Modelando información: \n",
        "Crear una tupla que representa una orden de venta de una activo. \n",
        "La misma debe contar con un string que representa un ticker, un entero que representa la cantidad de nominales, un float que modela al precio de venta, un datetime que representa el instante en que se colocó orden, un string que representa el plazo de liquidación y un string que referencia el mercado.\n",
        "\n",
        "En la posición 0 el ticker, en la 1 es la cantidad de nominales, la 2 precio de venta, la 3 representa instante de la orden, la 4 el plazo de liquidación y la 5 el mercado donde se coloca."
      ]
    },
    {
      "cell_type": "code",
      "metadata": {
        "id": "3c2TYJeOncIp"
      },
      "source": [
        ""
      ],
      "execution_count": null,
      "outputs": []
    },
    {
      "cell_type": "markdown",
      "metadata": {
        "id": "dAmj3CIQncIs"
      },
      "source": [
        "#### Ejercicio 2 \n",
        "Crear un libro de ordenes formado por dos listas una lista que representa la compra y otra la venta, cada lista esta constituida por 5 tuplas de un mismo activo lo mismo para la venta."
      ]
    },
    {
      "cell_type": "code",
      "metadata": {
        "id": "wuuLNfTNl0uI"
      },
      "source": [
        ""
      ],
      "execution_count": null,
      "outputs": []
    },
    {
      "cell_type": "markdown",
      "metadata": {
        "id": "hoqp5LdBncIw"
      },
      "source": [
        "#### Ejercicio 3\n",
        "Crear una tupla cartera compuesta por, un usuario formato string, una lista de tuplas que representara al portafolio , cada tupla esta compuesta por ticker, cantidad de nominales, precio promedio de compra, instante de adquisición del activo)"
      ]
    },
    {
      "cell_type": "code",
      "metadata": {
        "id": "DUNenJCUqVMS"
      },
      "source": [
        ""
      ],
      "execution_count": null,
      "outputs": []
    },
    {
      "cell_type": "markdown",
      "metadata": {
        "id": "CxJtybzvncI2"
      },
      "source": [
        "#### Ejercicio 4\n",
        "En la tupla cartera, acceder al la representacion del portafolios por indice y traer la segunda tupla de dicha lista."
      ]
    },
    {
      "cell_type": "code",
      "metadata": {
        "id": "AUWeYfHKrwOX"
      },
      "source": [
        ""
      ],
      "execution_count": null,
      "outputs": []
    }
  ]
}