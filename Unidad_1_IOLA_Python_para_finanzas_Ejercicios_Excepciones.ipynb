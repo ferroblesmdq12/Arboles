{
  "nbformat": 4,
  "nbformat_minor": 0,
  "metadata": {
    "kernelspec": {
      "display_name": "p36workshop",
      "language": "python",
      "name": "p36workshop"
    },
    "language_info": {
      "codemirror_mode": {
        "name": "ipython",
        "version": 3
      },
      "file_extension": ".py",
      "mimetype": "text/x-python",
      "name": "python",
      "nbconvert_exporter": "python",
      "pygments_lexer": "ipython3",
      "version": "3.6.10"
    },
    "colab": {
      "name": "Unidad 1: IOLA Python para finanzas - Ejercicios Excepciones.ipynb",
      "provenance": [],
      "include_colab_link": true
    }
  },
  "cells": [
    {
      "cell_type": "markdown",
      "metadata": {
        "id": "view-in-github",
        "colab_type": "text"
      },
      "source": [
        "<a href=\"https://colab.research.google.com/github/ferroblesmdq12/Arboles/blob/main/Unidad_1_IOLA_Python_para_finanzas_Ejercicios_Excepciones.ipynb\" target=\"_parent\"><img src=\"https://colab.research.google.com/assets/colab-badge.svg\" alt=\"Open In Colab\"/></a>"
      ]
    },
    {
      "cell_type": "markdown",
      "metadata": {
        "id": "bntZC1GXjfqr"
      },
      "source": [
        "### Excepciones \n",
        "a continuacion hay algunas operaciones que como estan planteadas lanzan una excepción, ejecutarlas ver cual es el error y luego poner entre try y except para capturar el error, dentro del except poner un print aclarando cuel fue el problema.\n"
      ]
    },
    {
      "cell_type": "markdown",
      "metadata": {
        "id": "yikjt1hPjfqs"
      },
      "source": [
        "#### Ejercicio 1"
      ]
    },
    {
      "cell_type": "code",
      "metadata": {
        "id": "gUagX_yqjfqt"
      },
      "source": [
        "division = 5/0"
      ],
      "execution_count": null,
      "outputs": []
    },
    {
      "cell_type": "code",
      "metadata": {
        "id": "gGXDc1bBjfqu"
      },
      "source": [
        ""
      ],
      "execution_count": null,
      "outputs": []
    },
    {
      "cell_type": "code",
      "metadata": {
        "id": "5PLT-YnUjfqu"
      },
      "source": [
        ""
      ],
      "execution_count": null,
      "outputs": []
    },
    {
      "cell_type": "code",
      "metadata": {
        "id": "xxSAx7Csjfqu"
      },
      "source": [
        ""
      ],
      "execution_count": null,
      "outputs": []
    },
    {
      "cell_type": "markdown",
      "metadata": {
        "id": "P7lO_sRtjfqv"
      },
      "source": [
        "#### Ejercicio 2"
      ]
    },
    {
      "cell_type": "code",
      "metadata": {
        "id": "Li_THRsAjfqv"
      },
      "source": [
        "lista = [1, 2, 3, 4, 5]\n",
        "lista[10]"
      ],
      "execution_count": null,
      "outputs": []
    },
    {
      "cell_type": "code",
      "metadata": {
        "id": "mQ2GZj7ijfqv"
      },
      "source": [
        ""
      ],
      "execution_count": null,
      "outputs": []
    },
    {
      "cell_type": "code",
      "metadata": {
        "id": "nboUWDB-jfqv"
      },
      "source": [
        ""
      ],
      "execution_count": null,
      "outputs": []
    },
    {
      "cell_type": "code",
      "metadata": {
        "id": "YgjOPfirjfqw"
      },
      "source": [
        ""
      ],
      "execution_count": null,
      "outputs": []
    },
    {
      "cell_type": "markdown",
      "metadata": {
        "id": "ffIC7ljfjfqw"
      },
      "source": [
        "#### Ejercicio 3"
      ]
    },
    {
      "cell_type": "code",
      "metadata": {
        "id": "ulZ9aaGCjfqw"
      },
      "source": [
        "colores = { 'rojo':'red', 'verde':'green', 'negro':'black' } \n",
        "colores['blanco']"
      ],
      "execution_count": null,
      "outputs": []
    },
    {
      "cell_type": "code",
      "metadata": {
        "id": "y-0qYgGLjfqw"
      },
      "source": [
        ""
      ],
      "execution_count": null,
      "outputs": []
    },
    {
      "cell_type": "code",
      "metadata": {
        "id": "PvB7cghjjfqw"
      },
      "source": [
        ""
      ],
      "execution_count": null,
      "outputs": []
    },
    {
      "cell_type": "code",
      "metadata": {
        "id": "ECGhhLMajfqw"
      },
      "source": [
        ""
      ],
      "execution_count": null,
      "outputs": []
    },
    {
      "cell_type": "markdown",
      "metadata": {
        "id": "2HQC5jlQjfqx"
      },
      "source": [
        "#### Ejercicio 4"
      ]
    },
    {
      "cell_type": "code",
      "metadata": {
        "id": "gE9RUR7vjfqx"
      },
      "source": [
        "resultado = 15 + \"20\""
      ],
      "execution_count": null,
      "outputs": []
    },
    {
      "cell_type": "code",
      "metadata": {
        "id": "R83Y__rZjfqx"
      },
      "source": [
        ""
      ],
      "execution_count": null,
      "outputs": []
    },
    {
      "cell_type": "code",
      "metadata": {
        "id": "V1YNksMNjfqx"
      },
      "source": [
        ""
      ],
      "execution_count": null,
      "outputs": []
    },
    {
      "cell_type": "code",
      "metadata": {
        "id": "B7GdhTtvjfqx"
      },
      "source": [
        ""
      ],
      "execution_count": null,
      "outputs": []
    },
    {
      "cell_type": "code",
      "metadata": {
        "id": "SgY6Hbz4jfqy"
      },
      "source": [
        ""
      ],
      "execution_count": null,
      "outputs": []
    },
    {
      "cell_type": "code",
      "metadata": {
        "id": "qAd8O13bjfqy"
      },
      "source": [
        ""
      ],
      "execution_count": null,
      "outputs": []
    },
    {
      "cell_type": "code",
      "metadata": {
        "id": "HG32OH4Bjfqy"
      },
      "source": [
        ""
      ],
      "execution_count": null,
      "outputs": []
    },
    {
      "cell_type": "code",
      "metadata": {
        "id": "ly7pMJVVjfqy"
      },
      "source": [
        ""
      ],
      "execution_count": null,
      "outputs": []
    },
    {
      "cell_type": "code",
      "metadata": {
        "id": "nFDe1UFqjfqy"
      },
      "source": [
        ""
      ],
      "execution_count": null,
      "outputs": []
    },
    {
      "cell_type": "markdown",
      "metadata": {
        "id": "uIIvSunmjfqy"
      },
      "source": [
        "### Respuestas "
      ]
    },
    {
      "cell_type": "markdown",
      "metadata": {
        "id": "4x45OQ0ijfqy"
      },
      "source": [
        "#### Ejercicio 1\n",
        "Tira error del tipo ZeroDivisionError al intentar dividir un numero por 0, ZeroDivisionError es el tipo de error que hay que manejar"
      ]
    },
    {
      "cell_type": "markdown",
      "metadata": {
        "id": "M2vCT6vtjfqy"
      },
      "source": [
        "try:\n",
        "    division = 5/0\n",
        "except ZeroDivisionError :\n",
        "    print(\"No se puede divir por cero\") "
      ]
    },
    {
      "cell_type": "code",
      "metadata": {
        "id": "Q71w7GMRjfqz"
      },
      "source": [
        ""
      ],
      "execution_count": null,
      "outputs": []
    },
    {
      "cell_type": "markdown",
      "metadata": {
        "id": "8TmuRCo3jfqz"
      },
      "source": [
        "#### Ejercicio 2\n",
        "Tira error del tipo IndexError, ese tipo de error es el que hay que manejar, ya que se intenta acceder a un indice en una posicion que no existe"
      ]
    },
    {
      "cell_type": "markdown",
      "metadata": {
        "id": "5lhTdLvPjfqz"
      },
      "source": [
        "try:\n",
        "    lista[10]\n",
        "except IndexError:\n",
        "    print (\"Esta intentando acceder a una posicion inexistente en la lista\")"
      ]
    },
    {
      "cell_type": "code",
      "metadata": {
        "id": "eg306oeujfqz"
      },
      "source": [
        ""
      ],
      "execution_count": null,
      "outputs": []
    },
    {
      "cell_type": "markdown",
      "metadata": {
        "id": "GsAvYTADjfqz"
      },
      "source": [
        "#### Ejercicio 3\n",
        "Tira error del tipo KeyError al intentar acceder sin get al diccionario con una clave inexistente, KeyError es el tipo de error que hay que manejar"
      ]
    },
    {
      "cell_type": "markdown",
      "metadata": {
        "id": "XV1nzRR2jfqz"
      },
      "source": [
        "try:\n",
        "    colores['blanco']\n",
        "except KeyError:\n",
        "    print(\"no existe en el diccionario la clave que intenta buscar\")"
      ]
    },
    {
      "cell_type": "code",
      "metadata": {
        "id": "Glt8K2GPjfq0"
      },
      "source": [
        ""
      ],
      "execution_count": null,
      "outputs": []
    },
    {
      "cell_type": "markdown",
      "metadata": {
        "id": "fKj3M25Fjfq0"
      },
      "source": [
        "#### Ejercicio 4\n",
        "Tira error del tipo TypeError al intentar operar con el + tipos de datos que no son compatibles para esa operacion, TypeError es el tipo de error que hay que manejar"
      ]
    },
    {
      "cell_type": "markdown",
      "metadata": {
        "id": "_urOIdHSjfq0"
      },
      "source": [
        "try:\n",
        "    15 + \"20\"\n",
        "except TypeError:\n",
        "    print(\"No se puede operar el + con esos valores\")"
      ]
    },
    {
      "cell_type": "code",
      "metadata": {
        "id": "jXTJMBzCjfq0"
      },
      "source": [
        ""
      ],
      "execution_count": null,
      "outputs": []
    },
    {
      "cell_type": "code",
      "metadata": {
        "id": "pglGhILvjfq0"
      },
      "source": [
        ""
      ],
      "execution_count": null,
      "outputs": []
    },
    {
      "cell_type": "code",
      "metadata": {
        "id": "e6r7oDc_jfq0"
      },
      "source": [
        ""
      ],
      "execution_count": null,
      "outputs": []
    },
    {
      "cell_type": "code",
      "metadata": {
        "id": "g3AyTGFjjfq0"
      },
      "source": [
        ""
      ],
      "execution_count": null,
      "outputs": []
    }
  ]
}