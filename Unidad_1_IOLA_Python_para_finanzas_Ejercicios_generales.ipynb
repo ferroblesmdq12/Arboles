{
  "nbformat": 4,
  "nbformat_minor": 0,
  "metadata": {
    "colab": {
      "name": "Unidad 1: IOLA Python para finanzas - Ejercicios generales.ipynb",
      "provenance": [],
      "collapsed_sections": [
        "vhLqd7sqi7i0",
        "UWvOlpnTj9a2"
      ],
      "include_colab_link": true
    },
    "kernelspec": {
      "name": "python3",
      "display_name": "Python 3"
    }
  },
  "cells": [
    {
      "cell_type": "markdown",
      "metadata": {
        "id": "view-in-github",
        "colab_type": "text"
      },
      "source": [
        "<a href=\"https://colab.research.google.com/github/ferroblesmdq12/Arboles/blob/main/Unidad_1_IOLA_Python_para_finanzas_Ejercicios_generales.ipynb\" target=\"_parent\"><img src=\"https://colab.research.google.com/assets/colab-badge.svg\" alt=\"Open In Colab\"/></a>"
      ]
    },
    {
      "cell_type": "markdown",
      "metadata": {
        "id": "kXHdomBahKbh"
      },
      "source": [
        "### Ejercicio 1\n",
        "\n",
        "Buscando en el cuaderno de la clase describir que es y para que programar."
      ]
    },
    {
      "cell_type": "code",
      "metadata": {
        "id": "rJboFTv9hsUA"
      },
      "source": [
        "Programar es dar instrucciones atravez de codigos a una computadora para que esta las pueda interpretar."
      ],
      "execution_count": null,
      "outputs": []
    },
    {
      "cell_type": "code",
      "metadata": {
        "id": "0tJkyflAhsPL"
      },
      "source": [
        ""
      ],
      "execution_count": null,
      "outputs": []
    },
    {
      "cell_type": "code",
      "metadata": {
        "id": "yxJYU76MhsG5"
      },
      "source": [
        ""
      ],
      "execution_count": null,
      "outputs": []
    },
    {
      "cell_type": "markdown",
      "metadata": {
        "id": "F9d32gxLhhXr"
      },
      "source": [
        "### Ejercicio 2\n",
        "Explicar con sus palabras que es un algoritmo"
      ]
    },
    {
      "cell_type": "code",
      "metadata": {
        "id": "r1Y1L_t8htwS"
      },
      "source": [
        "Un algoritmo es una serie de pasos y/o procesos para poder lograr un objetivo."
      ],
      "execution_count": null,
      "outputs": []
    },
    {
      "cell_type": "code",
      "metadata": {
        "id": "u3Wak4LyhtrG"
      },
      "source": [
        ""
      ],
      "execution_count": null,
      "outputs": []
    },
    {
      "cell_type": "code",
      "metadata": {
        "id": "UiPDGV_JhtkY"
      },
      "source": [
        ""
      ],
      "execution_count": null,
      "outputs": []
    },
    {
      "cell_type": "markdown",
      "metadata": {
        "id": "EaWy5BIzhiGh"
      },
      "source": [
        "### Ejercicio 3\n",
        "Escribir con palabras un algoritmo que defina los pasos para retirar dinero de un cajero automatico.\n"
      ]
    },
    {
      "cell_type": "code",
      "metadata": {
        "id": "ksELovNdhD3d"
      },
      "source": [
        "ingrese su tarjeta. ingrese su clave. seleccione cuenta corriente o caja de ahorro. indicar el monto a retirar. preguntar si la cuenta tiene saldo. monto a retirar menor o igual al saldo disponible. si es verdadero, se entrega el monto deseado. salir"
      ],
      "execution_count": null,
      "outputs": []
    },
    {
      "cell_type": "code",
      "metadata": {
        "id": "T4Pjf3J9iW_C"
      },
      "source": [
        ""
      ],
      "execution_count": null,
      "outputs": []
    },
    {
      "cell_type": "code",
      "metadata": {
        "id": "-hA1QZHwiW7T"
      },
      "source": [
        ""
      ],
      "execution_count": null,
      "outputs": []
    },
    {
      "cell_type": "markdown",
      "metadata": {
        "id": "E8HjgS1jiucd"
      },
      "source": [
        "### Ejercicio 4\n",
        "El algoritmo previamente definido, llevarlo a un diagrama de flujo con la herrmaienta\n",
        "https://lucid.app/documents#/dashboard  "
      ]
    },
    {
      "cell_type": "code",
      "metadata": {
        "id": "asopAzsLiqyn"
      },
      "source": [
        "https://lucid.app/lucidchart/1a67458a-0921-4aa2-8e0f-4aea92bb7e7a/edit?invitationId=inv_ceccbf9a-4b17-470d-bb06-66d0193dbf32"
      ],
      "execution_count": null,
      "outputs": []
    },
    {
      "cell_type": "code",
      "metadata": {
        "id": "bhyfJ-THixBR"
      },
      "source": [
        ""
      ],
      "execution_count": null,
      "outputs": []
    },
    {
      "cell_type": "code",
      "metadata": {
        "id": "YO_W94LTiw-O"
      },
      "source": [
        ""
      ],
      "execution_count": null,
      "outputs": []
    },
    {
      "cell_type": "markdown",
      "metadata": {
        "id": "zJsUOR2eixjj"
      },
      "source": [
        "### Ejercicio 5 \n",
        "Defina con sus palabras que es una variable y que tipos de datos básicos conocemos hasta el momento.\n"
      ]
    },
    {
      "cell_type": "code",
      "metadata": {
        "id": "LiLxUnOZiw5z"
      },
      "source": [
        "Una variable esta formada por un espacio en el sistema de almacenaje de la memoria principal de la computadora y un nombre simbolico asociado a dicho espacio."
      ],
      "execution_count": null,
      "outputs": []
    },
    {
      "cell_type": "code",
      "metadata": {
        "id": "tvTH1x1ui6Zl"
      },
      "source": [
        "Los tipos de datos son un conjunto de simbolos y operaciones que se pueden hacer con dichos simbolos."
      ],
      "execution_count": null,
      "outputs": []
    },
    {
      "cell_type": "code",
      "metadata": {
        "id": "wvIO9jwei6t1"
      },
      "source": [
        ""
      ],
      "execution_count": null,
      "outputs": []
    },
    {
      "cell_type": "markdown",
      "metadata": {
        "id": "vhLqd7sqi7i0"
      },
      "source": [
        "### Ejercicio 6\n",
        "Crear una variable precio_accion y asignarle un valor numerico"
      ]
    },
    {
      "cell_type": "code",
      "metadata": {
        "id": "cs-EMZhxjuU0"
      },
      "source": [
        ""
      ],
      "execution_count": null,
      "outputs": []
    },
    {
      "cell_type": "code",
      "metadata": {
        "id": "8o7kah8Njv7f",
        "colab": {
          "base_uri": "https://localhost:8080/"
        },
        "outputId": "f1bb71e3-7194-4537-f61c-3eb1d216481d"
      },
      "source": [
        "precio_accion = 84.93\n",
        "precio_accion"
      ],
      "execution_count": 1,
      "outputs": [
        {
          "output_type": "execute_result",
          "data": {
            "text/plain": [
              "84.93"
            ]
          },
          "metadata": {},
          "execution_count": 1
        }
      ]
    },
    {
      "cell_type": "code",
      "metadata": {
        "colab": {
          "base_uri": "https://localhost:8080/"
        },
        "id": "ufB8VSc1jvxd",
        "outputId": "6bbea130-0da1-42e9-ad7f-f3eaff772a26"
      },
      "source": [
        "### posible solución\n",
        "precio_accion = 142.23\n",
        "precio_accion\n"
      ],
      "execution_count": null,
      "outputs": [
        {
          "output_type": "execute_result",
          "data": {
            "text/plain": [
              "142.23"
            ]
          },
          "metadata": {
            "tags": []
          },
          "execution_count": 7
        }
      ]
    },
    {
      "cell_type": "markdown",
      "metadata": {
        "id": "zPbT47FFjwyI"
      },
      "source": [
        "### Ejercicio 7\n",
        "Crear una variable ticker, que contendrá el nombre de un activo de su preferencia."
      ]
    },
    {
      "cell_type": "code",
      "metadata": {
        "id": "UVz2tAy-j7SZ"
      },
      "source": [
        "i = 0\n",
        "i = i + 1\n",
        "i = i + 1\n",
        "i = i + 1 "
      ],
      "execution_count": null,
      "outputs": []
    },
    {
      "cell_type": "code",
      "metadata": {
        "id": "jpNDMe9Vj86m",
        "colab": {
          "base_uri": "https://localhost:8080/",
          "height": 35
        },
        "outputId": "8d5c14e2-1651-4add-8a80-caea8af8f36d"
      },
      "source": [
        "ticker = \"cgpa2.ba\"\n",
        "ticker\n",
        "\n"
      ],
      "execution_count": 3,
      "outputs": [
        {
          "output_type": "execute_result",
          "data": {
            "application/vnd.google.colaboratory.intrinsic+json": {
              "type": "string"
            },
            "text/plain": [
              "'cgpa2.ba'"
            ]
          },
          "metadata": {},
          "execution_count": 3
        }
      ]
    },
    {
      "cell_type": "code",
      "metadata": {
        "colab": {
          "base_uri": "https://localhost:8080/",
          "height": 35
        },
        "id": "ubL92HBBj8Zx",
        "outputId": "aa6e00dc-b6ec-4f79-e525-33e8873f4f22"
      },
      "source": [
        "### posible solucion\n",
        "ticker = \"ggal.ba\"\n",
        "ticker"
      ],
      "execution_count": null,
      "outputs": [
        {
          "output_type": "execute_result",
          "data": {
            "application/vnd.google.colaboratory.intrinsic+json": {
              "type": "string"
            },
            "text/plain": [
              "'ggal.ba'"
            ]
          },
          "metadata": {
            "tags": []
          },
          "execution_count": 5
        }
      ]
    },
    {
      "cell_type": "markdown",
      "metadata": {
        "id": "UWvOlpnTj9a2"
      },
      "source": [
        "### Ejercicio 8\n",
        "Crear un contador que incremente de a una unidad ejecutarlo 3 veces y evaluar el correcto resultado."
      ]
    },
    {
      "cell_type": "code",
      "metadata": {
        "id": "DAvPZBxQkZOc"
      },
      "source": [
        ""
      ],
      "execution_count": null,
      "outputs": []
    },
    {
      "cell_type": "code",
      "metadata": {
        "id": "chJXgHFKkakQ",
        "colab": {
          "base_uri": "https://localhost:8080/"
        },
        "outputId": "ca46bfca-08da-4928-8824-c41df9a90b28"
      },
      "source": [
        "i = 0\n",
        "i+=1\n",
        "i+=1\n",
        "i+=1\n",
        "\n",
        "i\n"
      ],
      "execution_count": 4,
      "outputs": [
        {
          "output_type": "execute_result",
          "data": {
            "text/plain": [
              "3"
            ]
          },
          "metadata": {},
          "execution_count": 4
        }
      ]
    },
    {
      "cell_type": "code",
      "metadata": {
        "colab": {
          "base_uri": "https://localhost:8080/"
        },
        "id": "-GLF0gGDkaXJ",
        "outputId": "d677587a-2364-492d-8056-98a52efbce37"
      },
      "source": [
        "### posible solución\n",
        "contador = 0\n",
        "contador +=1 \n",
        "contador +=1 \n",
        "contador +=1 \n",
        "\n",
        "contador"
      ],
      "execution_count": null,
      "outputs": [
        {
          "output_type": "execute_result",
          "data": {
            "text/plain": [
              "3"
            ]
          },
          "metadata": {
            "tags": []
          },
          "execution_count": 3
        }
      ]
    },
    {
      "cell_type": "markdown",
      "metadata": {
        "id": "7R3-VbCqlLGU"
      },
      "source": [
        "### Ejercicio 9\n",
        "Definir dos variables booleanas sus nombres deben expresar si un cliente puede comprar y si el mercado esta abierto, inicializarlas con los valores de verdad de su preferencia"
      ]
    },
    {
      "cell_type": "code",
      "metadata": {
        "id": "zPRuRlgFlbHn"
      },
      "source": [
        ""
      ],
      "execution_count": null,
      "outputs": []
    },
    {
      "cell_type": "code",
      "metadata": {
        "id": "pLYvBvwKlb8x"
      },
      "source": [
        ""
      ],
      "execution_count": null,
      "outputs": []
    },
    {
      "cell_type": "code",
      "metadata": {
        "id": "S8WY4IzHlbz5"
      },
      "source": [
        "### posible solución\n",
        "puede_comprar = True\n",
        "mercado_abierto = False"
      ],
      "execution_count": null,
      "outputs": []
    },
    {
      "cell_type": "markdown",
      "metadata": {
        "id": "uM11ZmAklt3_"
      },
      "source": [
        "### Ejercicio 10 \n",
        " Determinar el operador lógico que devuelva Verdadero si se cumple una de las expresiones, cumplir significa que su valor de verdad es True, utilizar como expresiones las variables previamente definidas."
      ]
    },
    {
      "cell_type": "code",
      "metadata": {
        "id": "4fWYK5FZmOeb",
        "colab": {
          "base_uri": "https://localhost:8080/"
        },
        "outputId": "594f0b56-abb6-42a0-a98c-f09c57bc05f0"
      },
      "source": [
        "puede_comprar = True\n",
        "mercado_abierto = True\n",
        "\n",
        "puede_comprar or mercado_abierto"
      ],
      "execution_count": 5,
      "outputs": [
        {
          "output_type": "execute_result",
          "data": {
            "text/plain": [
              "True"
            ]
          },
          "metadata": {},
          "execution_count": 5
        }
      ]
    },
    {
      "cell_type": "code",
      "metadata": {
        "id": "a488IAuImOQX"
      },
      "source": [
        ""
      ],
      "execution_count": null,
      "outputs": []
    },
    {
      "cell_type": "code",
      "metadata": {
        "colab": {
          "base_uri": "https://localhost:8080/"
        },
        "id": "8BvhhCjGmM9A",
        "outputId": "a7fa552f-a719-4e68-e8e6-0126dea77b83"
      },
      "source": [
        "### posible solución\n",
        "puede_comprar or mercado_abierto"
      ],
      "execution_count": null,
      "outputs": [
        {
          "output_type": "execute_result",
          "data": {
            "text/plain": [
              "True"
            ]
          },
          "metadata": {
            "tags": []
          },
          "execution_count": 9
        }
      ]
    },
    {
      "cell_type": "markdown",
      "metadata": {
        "id": "Lw4ODMINmvB0"
      },
      "source": [
        "### Ejercicio 11\n",
        " Determinar el operador lógico que devuelva Verdad si se cumplen simultaneamente las dos expresiones, utilizar las variables previamente definidas."
      ]
    },
    {
      "cell_type": "code",
      "metadata": {
        "id": "1pzF9LHImseC"
      },
      "source": [
        ""
      ],
      "execution_count": null,
      "outputs": []
    },
    {
      "cell_type": "code",
      "metadata": {
        "id": "TCoypqv0m8VD"
      },
      "source": [
        ""
      ],
      "execution_count": null,
      "outputs": []
    },
    {
      "cell_type": "code",
      "metadata": {
        "colab": {
          "base_uri": "https://localhost:8080/"
        },
        "id": "7vbsrkRtm8I7",
        "outputId": "1fb11fb7-1d7d-4799-ba54-2e9bbb744c4c"
      },
      "source": [
        "### posible solución\n",
        "puede_comprar and mercado_abierto"
      ],
      "execution_count": null,
      "outputs": [
        {
          "output_type": "execute_result",
          "data": {
            "text/plain": [
              "False"
            ]
          },
          "metadata": {
            "tags": []
          },
          "execution_count": 10
        }
      ]
    },
    {
      "cell_type": "markdown",
      "metadata": {
        "id": "LemY_eLloRxf"
      },
      "source": [
        "### Ejercicio 12 \n",
        "Determinar el operador lógico que devuelve el valor opuesto a la expresión."
      ]
    },
    {
      "cell_type": "code",
      "metadata": {
        "id": "rYkTwGsBoP7f"
      },
      "source": [
        ""
      ],
      "execution_count": null,
      "outputs": []
    },
    {
      "cell_type": "code",
      "metadata": {
        "id": "gTlovNHeqFhJ"
      },
      "source": [
        ""
      ],
      "execution_count": null,
      "outputs": []
    },
    {
      "cell_type": "code",
      "metadata": {
        "colab": {
          "base_uri": "https://localhost:8080/"
        },
        "id": "uIcc6pLNqFV7",
        "outputId": "7b033132-5f80-40b6-d962-11f621daeceb"
      },
      "source": [
        "### posible solución\n",
        "not mercado_abierto"
      ],
      "execution_count": null,
      "outputs": [
        {
          "output_type": "execute_result",
          "data": {
            "text/plain": [
              "True"
            ]
          },
          "metadata": {
            "tags": []
          },
          "execution_count": 11
        }
      ]
    },
    {
      "cell_type": "markdown",
      "metadata": {
        "id": "-B1hIj-bqM-V"
      },
      "source": [
        "### Ejercicio 13 \n",
        "Determinar una expresion logica que indique que algo es verdadero, si no ocurre que el cliente puede comprar (variable previamente definida)\n"
      ]
    },
    {
      "cell_type": "code",
      "metadata": {
        "id": "D7-QKtkLqLiO"
      },
      "source": [
        ""
      ],
      "execution_count": null,
      "outputs": []
    },
    {
      "cell_type": "code",
      "metadata": {
        "id": "8NQk12LTqes4"
      },
      "source": [
        ""
      ],
      "execution_count": null,
      "outputs": []
    },
    {
      "cell_type": "code",
      "metadata": {
        "colab": {
          "base_uri": "https://localhost:8080/"
        },
        "id": "oYNSQPE9qeZT",
        "outputId": "6dc9701d-5db4-4506-940b-5a7053197f64"
      },
      "source": [
        "### posible solución\n",
        "puede_comprar = False\n",
        "not puede_comprar"
      ],
      "execution_count": null,
      "outputs": [
        {
          "output_type": "execute_result",
          "data": {
            "text/plain": [
              "True"
            ]
          },
          "metadata": {
            "tags": []
          },
          "execution_count": 13
        }
      ]
    },
    {
      "cell_type": "markdown",
      "metadata": {
        "id": "QXB9dlbYqtJF"
      },
      "source": [
        "### Ejercicio 14 \n",
        "Determinar una expresion logica que indique que algo es verdadero, si no ocurre que el cliente puede comprar (variable previamente definida) y ademas no es horario de mercado"
      ]
    },
    {
      "cell_type": "code",
      "metadata": {
        "id": "egNa_0STqjyb"
      },
      "source": [
        ""
      ],
      "execution_count": null,
      "outputs": []
    },
    {
      "cell_type": "code",
      "metadata": {
        "id": "ONUR8UMHq12W"
      },
      "source": [
        ""
      ],
      "execution_count": null,
      "outputs": []
    },
    {
      "cell_type": "code",
      "metadata": {
        "colab": {
          "base_uri": "https://localhost:8080/"
        },
        "id": "4oMAFvZnq1DJ",
        "outputId": "aace2a1b-e66f-4696-db9b-b670d04044f4"
      },
      "source": [
        "### posible solución\n",
        "puede_comprar = False\n",
        "mercado_abierto = False \n",
        "not puede_comprar and not mercado_abierto"
      ],
      "execution_count": null,
      "outputs": [
        {
          "output_type": "execute_result",
          "data": {
            "text/plain": [
              "True"
            ]
          },
          "metadata": {
            "tags": []
          },
          "execution_count": 14
        }
      ]
    },
    {
      "cell_type": "markdown",
      "metadata": {
        "id": "AM3HSpS1rJoL"
      },
      "source": [
        "### Ejercicio 15 \n",
        "Escribir un programa que contenga tres variables\n",
        "- una con un valor entero.\n",
        "- una con un valor con numeros decimales.\n",
        "- una con una cadena de caracteres."
      ]
    },
    {
      "cell_type": "code",
      "metadata": {
        "id": "JVTPbn4CreQu"
      },
      "source": [
        ""
      ],
      "execution_count": null,
      "outputs": []
    },
    {
      "cell_type": "code",
      "metadata": {
        "id": "X0cNLCaJreeH"
      },
      "source": [
        ""
      ],
      "execution_count": null,
      "outputs": []
    },
    {
      "cell_type": "code",
      "metadata": {
        "id": "lqs5W9arreT9"
      },
      "source": [
        "### posible solución\n",
        "entero = 1\n",
        "flotante = 1.23\n",
        "cadena = \"hola!\""
      ],
      "execution_count": null,
      "outputs": []
    },
    {
      "cell_type": "markdown",
      "metadata": {
        "id": "g1XamuF6rfW0"
      },
      "source": [
        "### Ejercicio 16\n",
        "Ulitizando las 3 variables anteriormente definidas se pide por medio de print y type, mostrar por pantalla el tipo de dato que contiene cada variable."
      ]
    },
    {
      "cell_type": "code",
      "metadata": {
        "id": "zB41LiNErv9U"
      },
      "source": [
        ""
      ],
      "execution_count": null,
      "outputs": []
    },
    {
      "cell_type": "code",
      "metadata": {
        "id": "EbTTDBa_r59E"
      },
      "source": [
        ""
      ],
      "execution_count": null,
      "outputs": []
    },
    {
      "cell_type": "code",
      "metadata": {
        "colab": {
          "base_uri": "https://localhost:8080/"
        },
        "id": "oixDc1Q9r555",
        "outputId": "257ac935-803b-4376-faea-57cc5c71c7c8"
      },
      "source": [
        "### posible solución\n",
        "print(type(entero))\n",
        "print(type(flotante))\n",
        "print(type(cadena))"
      ],
      "execution_count": null,
      "outputs": [
        {
          "output_type": "stream",
          "text": [
            "<class 'int'>\n",
            "<class 'float'>\n",
            "<class 'str'>\n"
          ],
          "name": "stdout"
        }
      ]
    },
    {
      "cell_type": "code",
      "metadata": {
        "id": "w0_wOMofr52F"
      },
      "source": [
        ""
      ],
      "execution_count": null,
      "outputs": []
    }
  ]
}